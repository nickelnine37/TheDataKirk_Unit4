{
 "cells": [
  {
   "cell_type": "markdown",
   "metadata": {},
   "source": [
    "# 1 - Variables and Data Structures\n",
    "\n",
    "--- \n",
    "\n",
    "Welcome to your first ever Python notebook! Here we are going to learn about the basics of Python.\n",
    "\n",
    "## What is Python?\n",
    "\n",
    "Python is a programming language. We use programming languages to give a specific set of instructions to a computer in the form of *code*. While there are many different possible programming languages to choose from, in this course we will be focusing solely on Python. \n",
    "\n",
    "Python is arguably the hottest language to learn at the moment. It's used in every major government and company, in every country on earth - and with good reason. Some of the reasons we think Python is so great are:\n",
    "\n",
    "1. It's easier than other languages to pick up (But that doesn't mean it's easy!) The syntax is often seen as being more intuitive than other programming languages like Java or C so it's a great first language to learn.\n",
    "2. You can do almost anything with it. People use Python for all sorts of different tasks ranging from hacking to web development to data science to physics and engineering. \n",
    "3. There is a huge community of Python programmers out there. That means, if you're stuck with a problem, you can google it and the chances are someone out there has had the same problem. \n",
    "\n",
    "## Jupyter Notebooks\n",
    "\n",
    "Click the image to watch a short video about Jupyter!\n",
    "\n",
    "[![](http://img.youtube.com/vi/9qiKzItgvMo/0.jpg)](http://www.youtube.com/watch?v=9qiKzItgvMo \"\")\n",
    "\n",
    "Jupyter is the application that you are running right now. It runs directly in your web browser. A Jupyter notebook is made up of a series of cells, which let you run snippets of python code quickly and see the results. In order to run a piece of code, just type it into a cell and hit `shft`+`enter`, `ctrl`+`enter` or just click the button at the top that says 'run'. Try it below!"
   ]
  },
  {
   "cell_type": "code",
   "execution_count": null,
   "metadata": {},
   "outputs": [],
   "source": [
    "# Try to run this cell!\n",
    "print('Hello World')"
   ]
  },
  {
   "cell_type": "markdown",
   "metadata": {},
   "source": [
    "You can add a new cell by clicking on the bit to the left (where you see `In[1]:`) and pressing `a` (for a new cell *above*) or `b` (for a new cell *below*). Cells can be deleted by pressing `dd`. You can also select 'insert' then click 'new cell above' from the top menu. \n",
    "\n",
    "Try it!"
   ]
  },
  {
   "cell_type": "code",
   "execution_count": null,
   "metadata": {},
   "outputs": [],
   "source": [
    "# ADD A NEW CELL ABOVE ME"
   ]
  },
  {
   "cell_type": "code",
   "execution_count": null,
   "metadata": {},
   "outputs": [],
   "source": [
    "# ADD A NEW CELL BELOW ME"
   ]
  },
  {
   "cell_type": "markdown",
   "metadata": {},
   "source": [
    "## Variables \n",
    "\n",
    "The most basic unit we deal with in prgramming is called a *variable*. Variables are things that can take a value such as a number or a piece of text. We assign a value to a variable by using the `=` sign. "
   ]
  },
  {
   "cell_type": "code",
   "execution_count": null,
   "metadata": {},
   "outputs": [],
   "source": [
    "# we are creating a variable called my_number, and giving it a value of 42\n",
    "my_number = 42"
   ]
  },
  {
   "cell_type": "markdown",
   "metadata": {},
   "source": [
    "You can check what's inside a variable by simply typing the variable name in a cell and running that cell"
   ]
  },
  {
   "cell_type": "code",
   "execution_count": null,
   "metadata": {},
   "outputs": [],
   "source": [
    "my_number"
   ]
  },
  {
   "cell_type": "markdown",
   "metadata": {},
   "source": [
    "Or alternatively, you can use the `print()` function. "
   ]
  },
  {
   "cell_type": "code",
   "execution_count": null,
   "metadata": {},
   "outputs": [],
   "source": [
    "print(my_number)"
   ]
  },
  {
   "cell_type": "markdown",
   "metadata": {},
   "source": [
    "You can name variables more or less anything you like. However\n",
    "\n",
    "1. Variables can only contain letters, numbers and underscores (`_`'s)\n",
    "2. Variables must start with a letter, not a number\n",
    "3. Variables can't have any spaces in them\n",
    "\n",
    "\n",
    "### Exercise 1\n",
    "\n",
    "Create a new variable, called whatever you want, and assign it a number as a value. Then check what's inside the variable you have just created\n"
   ]
  },
  {
   "cell_type": "code",
   "execution_count": null,
   "metadata": {},
   "outputs": [],
   "source": [
    "# YOUR CODE HERE\n"
   ]
  },
  {
   "cell_type": "markdown",
   "metadata": {},
   "source": [
    "## Types\n",
    "\n",
    "In python values can have different *types*\n",
    "\n",
    "### Numbers\n",
    "\n",
    "Numbers in Python are more or less what you might expect. They can have values like \n",
    "\n",
    "```python\n",
    "5\n",
    "1001\n",
    "37.5\n",
    "0.001\n",
    "```\n",
    "\n",
    "Technically there are two distinct categories of numbers in Python: whole numbers like `1`, `5` and `100`, and decimals like `5.5`, `0.001` and `3.14195`. These are also referred to as *integers* and *floats* respectively. "
   ]
  },
  {
   "cell_type": "code",
   "execution_count": null,
   "metadata": {},
   "outputs": [],
   "source": [
    "number1 = 5\n",
    "number2 = 1001\n",
    "number3 = 37.5\n",
    "number4 = 0.001\n",
    "\n",
    "print(number1)\n",
    "print(number2)\n",
    "print(number3)\n",
    "print(number4)"
   ]
  },
  {
   "cell_type": "markdown",
   "metadata": {},
   "source": [
    "### Strings\n",
    "\n",
    "Strings are the second important type. These are little pieces of text or words. We create a string by enclosing our piece of text in quotation marks\n",
    "\n",
    "```python\n",
    "'this is a string'\n",
    "'hello, theDataKirk'\n",
    "'I can put any symbols here!?#@<>'\n",
    "```\n",
    "\n",
    "We can also assign strings to variables "
   ]
  },
  {
   "cell_type": "code",
   "execution_count": null,
   "metadata": {},
   "outputs": [],
   "source": [
    "string1 = 'this is a string'\n",
    "string2 = 'hello theDataKirk'\n",
    "string3 = 'I can put any symbols here!?#@<>'\n",
    "\n",
    "print(string1)\n",
    "print(string2)\n",
    "print(string3)"
   ]
  },
  {
   "cell_type": "markdown",
   "metadata": {},
   "source": [
    "### Booleans\n",
    "\n",
    "Booleans are the third important type. They can only have two possible values \n",
    "\n",
    "```python\n",
    "True\n",
    "False\n",
    "```\n",
    "\n",
    "When typing a boolean, the first letter has to be a capital for Python to recognise it. "
   ]
  },
  {
   "cell_type": "code",
   "execution_count": null,
   "metadata": {},
   "outputs": [],
   "source": [
    "bool1 = True\n",
    "bool2 = False\n",
    "\n",
    "print(bool1)\n",
    "print(bool2)"
   ]
  },
  {
   "cell_type": "markdown",
   "metadata": {},
   "source": [
    "### Exercise 2\n",
    "\n",
    "Try creating a new number, string and boolean variable. Then print each one to check their value. "
   ]
  },
  {
   "cell_type": "code",
   "execution_count": null,
   "metadata": {},
   "outputs": [],
   "source": [
    "# YOUR CODE HERE\n"
   ]
  },
  {
   "cell_type": "markdown",
   "metadata": {},
   "source": [
    "## Maths operations\n",
    "\n",
    "Wen dealing with numbers, we can perfrom the usual maths operations you would find on any calculator"
   ]
  },
  {
   "cell_type": "code",
   "execution_count": null,
   "metadata": {},
   "outputs": [],
   "source": [
    "# addition\n",
    "1 + 1"
   ]
  },
  {
   "cell_type": "code",
   "execution_count": null,
   "metadata": {},
   "outputs": [],
   "source": [
    "# subtraction\n",
    "5 - 3"
   ]
  },
  {
   "cell_type": "code",
   "execution_count": null,
   "metadata": {},
   "outputs": [],
   "source": [
    "# multiplication\n",
    "2 * 2"
   ]
  },
  {
   "cell_type": "code",
   "execution_count": null,
   "metadata": {},
   "outputs": [],
   "source": [
    "# division\n",
    "10 / 2"
   ]
  },
  {
   "cell_type": "markdown",
   "metadata": {},
   "source": [
    "We can also do maths operations with variables we have set"
   ]
  },
  {
   "cell_type": "code",
   "execution_count": null,
   "metadata": {},
   "outputs": [],
   "source": [
    "a = 2\n",
    "b = 5\n",
    "c = 10\n",
    "\n",
    "print('a =', a, ', b =', b, ', c =', c)"
   ]
  },
  {
   "cell_type": "code",
   "execution_count": null,
   "metadata": {},
   "outputs": [],
   "source": [
    "a + b"
   ]
  },
  {
   "cell_type": "code",
   "execution_count": null,
   "metadata": {},
   "outputs": [],
   "source": [
    "c / a"
   ]
  },
  {
   "cell_type": "code",
   "execution_count": null,
   "metadata": {},
   "outputs": [],
   "source": [
    "c - b"
   ]
  },
  {
   "cell_type": "markdown",
   "metadata": {},
   "source": [
    "We can even assign the result of a calculation to a new variable"
   ]
  },
  {
   "cell_type": "code",
   "execution_count": null,
   "metadata": {},
   "outputs": [],
   "source": [
    "d = c - b"
   ]
  },
  {
   "cell_type": "code",
   "execution_count": null,
   "metadata": {},
   "outputs": [],
   "source": [
    "d"
   ]
  },
  {
   "cell_type": "code",
   "execution_count": null,
   "metadata": {},
   "outputs": [],
   "source": [
    "e = c / b"
   ]
  },
  {
   "cell_type": "code",
   "execution_count": null,
   "metadata": {},
   "outputs": [],
   "source": [
    "e"
   ]
  },
  {
   "cell_type": "markdown",
   "metadata": {},
   "source": [
    "When combining operations together, the rules of BIDMAS are followed. However, we can also use brackets to make things clear"
   ]
  },
  {
   "cell_type": "code",
   "execution_count": null,
   "metadata": {},
   "outputs": [],
   "source": [
    "5 + 5 * 2"
   ]
  },
  {
   "cell_type": "code",
   "execution_count": null,
   "metadata": {},
   "outputs": [],
   "source": [
    "(5 + 5) * 2"
   ]
  },
  {
   "cell_type": "markdown",
   "metadata": {},
   "source": [
    "### Exercise 3\n",
    "\n",
    "Use a new cell to find the average of 10, 14, 25, 81 and 99 "
   ]
  },
  {
   "cell_type": "code",
   "execution_count": null,
   "metadata": {},
   "outputs": [],
   "source": [
    "# YOUR CODE HERE\n",
    "\n"
   ]
  },
  {
   "cell_type": "markdown",
   "metadata": {},
   "source": [
    "## Conditions\n",
    "\n",
    "Imagine you were giving directions to someone. You might say something like \"If you go past Tesco, you've gone too far so turn back around\". When we're telling computers what to do, it's often useful to tell them to do something, IF some condition is true. \n",
    "\n",
    "Some basic conditions we are able to give a computer are things like \n",
    "\n",
    "* \"If number1 is bigger than number2, do something\"\n",
    "* \"If these two numbers are equal, do somegthing else\"\n",
    "\n",
    "The syntax for giving conditions in Python is \n",
    "\n",
    "```python\n",
    "if condition:\n",
    "    'do something!'\n",
    "else:\n",
    "    'do somethig else!'\n",
    "```\n",
    "\n",
    "When we compare numbers in Python we can use any of the following operators \n",
    "\n",
    "```python \n",
    "a < b     # a is less than b\n",
    "a > b     # a is greater than b\n",
    "a <= b    # a is less than or equal to b\n",
    "a >= b    # a is greater than or equal to b\n",
    "a == b    # a is equal to b\n",
    "a != b    # a is not equal to b\n",
    "```\n",
    "\n",
    "where `a` and `b` are any numbers we would like to compare. Here are some examples\n"
   ]
  },
  {
   "cell_type": "code",
   "execution_count": null,
   "metadata": {},
   "outputs": [],
   "source": [
    "a = 5\n",
    "b = 10\n",
    "\n",
    "if a < b:\n",
    "    print('a is less than b')\n",
    "else:\n",
    "    print('a is greater than or equal to b')"
   ]
  },
  {
   "cell_type": "code",
   "execution_count": null,
   "metadata": {},
   "outputs": [],
   "source": [
    "x = 100\n",
    "y = 1000\n",
    "\n",
    "if x == y:\n",
    "    print('x is equal to y')\n",
    "else:\n",
    "    print('x is not equal to y')"
   ]
  },
  {
   "cell_type": "markdown",
   "metadata": {},
   "source": [
    "### Exercise 4\n",
    "\n",
    "Design your own example!"
   ]
  },
  {
   "cell_type": "code",
   "execution_count": null,
   "metadata": {},
   "outputs": [],
   "source": [
    "# YOUR CODE HERE\n",
    "\n"
   ]
  },
  {
   "cell_type": "markdown",
   "metadata": {},
   "source": [
    "We can also chain conditions by using the keywords \n",
    "\n",
    "```python\n",
    "and\n",
    "```\n",
    "and \n",
    "```python\n",
    "or\n",
    "```\n",
    "\n",
    "Here are some examples"
   ]
  },
  {
   "cell_type": "code",
   "execution_count": null,
   "metadata": {},
   "outputs": [],
   "source": [
    "n1 = 10\n",
    "n2 = 11\n",
    "n3 = 12"
   ]
  },
  {
   "cell_type": "code",
   "execution_count": null,
   "metadata": {},
   "outputs": [],
   "source": [
    "if n1 < n2 and n2 > n3:\n",
    "    print('This is true')\n",
    "else:\n",
    "    print('This is false')"
   ]
  },
  {
   "cell_type": "code",
   "execution_count": null,
   "metadata": {},
   "outputs": [],
   "source": [
    "if n1 < n2 or n2 > n3:\n",
    "    print('This is true')\n",
    "else:\n",
    "    print('This is false')"
   ]
  },
  {
   "cell_type": "markdown",
   "metadata": {},
   "source": [
    "## Lists\n",
    "\n",
    "Lists are used when we want to store a sequence of values in one place. An example of a list with length 5 could be \n",
    "\n",
    "```python\n",
    "[1, 2, 3, 4, 5]\n",
    "```\n",
    "\n",
    "or \n",
    "\n",
    "```python\n",
    "[2, 4, 5, 3, 6]\n",
    "```\n",
    "\n",
    "We can assign a list to a variable like this"
   ]
  },
  {
   "cell_type": "code",
   "execution_count": null,
   "metadata": {},
   "outputs": [],
   "source": [
    "my_list = [5, 4, 3, 2, 1]"
   ]
  },
  {
   "cell_type": "code",
   "execution_count": null,
   "metadata": {},
   "outputs": [],
   "source": [
    "my_list"
   ]
  },
  {
   "cell_type": "markdown",
   "metadata": {},
   "source": [
    "We can access the individual elements of a list like this"
   ]
  },
  {
   "cell_type": "code",
   "execution_count": null,
   "metadata": {},
   "outputs": [],
   "source": [
    "my_list[0]"
   ]
  },
  {
   "cell_type": "code",
   "execution_count": null,
   "metadata": {},
   "outputs": [],
   "source": [
    "my_list[1]"
   ]
  },
  {
   "cell_type": "markdown",
   "metadata": {},
   "source": [
    "Something that can be slightly confusing at the start is that when getting list items, we count from zero. So, to access the first element we say `my_list[0]`, and to access the second element we say `my_list[1]` and so on. \n",
    "\n",
    "We can put anything we like into a list (including other lists!). Here is an example of a list that contains strings\n",
    "\n",
    "```python\n",
    "['a', 'b', 'c', 'd', 'e']\n",
    "```\n",
    "\n",
    "In general, lists can also contain a mixture of types\n",
    "\n",
    "```python\n",
    "[1, 'a', 2, 'b', 3]\n",
    "```"
   ]
  },
  {
   "cell_type": "code",
   "execution_count": null,
   "metadata": {},
   "outputs": [],
   "source": [
    "             #     0    1    2    3    4 \n",
    "my_string_list = ['a', 'b', 'c', 'd', 'e']"
   ]
  },
  {
   "cell_type": "code",
   "execution_count": null,
   "metadata": {},
   "outputs": [],
   "source": [
    "my_string_list"
   ]
  },
  {
   "cell_type": "code",
   "execution_count": null,
   "metadata": {},
   "outputs": [],
   "source": [
    "my_string_list[0]"
   ]
  },
  {
   "cell_type": "code",
   "execution_count": null,
   "metadata": {},
   "outputs": [],
   "source": [
    "my_string_list[3]"
   ]
  },
  {
   "cell_type": "markdown",
   "metadata": {},
   "source": [
    "### Exercise 5 \n",
    "\n",
    "Create your own list and assign it to a variable. Try accessig the individual elements"
   ]
  },
  {
   "cell_type": "code",
   "execution_count": null,
   "metadata": {},
   "outputs": [],
   "source": [
    "# YOUR CODE HERE\n"
   ]
  },
  {
   "cell_type": "markdown",
   "metadata": {},
   "source": [
    "We can add a new item onto the end of a list by using the format\n",
    "\n",
    "```python\n",
    "my_list.append(new_item)\n",
    "```"
   ]
  },
  {
   "cell_type": "code",
   "execution_count": null,
   "metadata": {},
   "outputs": [],
   "source": [
    "my_list = [1, 2, 3, 4]\n",
    "my_list.append(100)"
   ]
  },
  {
   "cell_type": "code",
   "execution_count": null,
   "metadata": {},
   "outputs": [],
   "source": [
    "my_list"
   ]
  },
  {
   "cell_type": "markdown",
   "metadata": {},
   "source": [
    "We can also set individual elements"
   ]
  },
  {
   "cell_type": "code",
   "execution_count": null,
   "metadata": {},
   "outputs": [],
   "source": [
    "my_list = [1, 2, 3, 4]\n",
    "my_list[0] = 100"
   ]
  },
  {
   "cell_type": "code",
   "execution_count": null,
   "metadata": {},
   "outputs": [],
   "source": [
    "my_list"
   ]
  },
  {
   "cell_type": "markdown",
   "metadata": {},
   "source": [
    "We can find out the length of a list by using the keyword\n",
    "\n",
    "```python\n",
    "len(my_list)\n",
    "```"
   ]
  },
  {
   "cell_type": "code",
   "execution_count": null,
   "metadata": {},
   "outputs": [],
   "source": [
    "a_new_list = [4, 3, 5, 7, 2, 6, 2, 5]\n",
    "len(a_new_list)"
   ]
  },
  {
   "cell_type": "markdown",
   "metadata": {},
   "source": [
    "We can find the sum of all the numbers in a list by using the keyword \n",
    "\n",
    "```python\n",
    "sum(my_list)\n",
    "```"
   ]
  },
  {
   "cell_type": "code",
   "execution_count": null,
   "metadata": {},
   "outputs": [],
   "source": [
    "a_new_list = [4, 3, 5, 7, 2, 6, 2, 5]\n",
    "sum(a_new_list)"
   ]
  },
  {
   "cell_type": "markdown",
   "metadata": {},
   "source": [
    "We can find the minimum and and maximum of a list by using the keywords\n",
    "\n",
    "```python\n",
    "min(my_list)\n",
    "max(my_list)\n",
    "```"
   ]
  },
  {
   "cell_type": "code",
   "execution_count": null,
   "metadata": {},
   "outputs": [],
   "source": [
    "min(a_new_list)"
   ]
  },
  {
   "cell_type": "code",
   "execution_count": null,
   "metadata": {},
   "outputs": [],
   "source": [
    "max(a_new_list)"
   ]
  },
  {
   "cell_type": "markdown",
   "metadata": {},
   "source": [
    "### Final Exercise \n",
    "\n",
    "Below are some lists. For each one, find the mean, and the range using the functions \n",
    "\n",
    "```python\n",
    "min()\n",
    "max()\n",
    "sum()\n",
    "len()\n",
    "```"
   ]
  },
  {
   "cell_type": "code",
   "execution_count": null,
   "metadata": {},
   "outputs": [],
   "source": [
    "list1 = [3, 4, 2, 6, 3, 7, 9, 3, 7, 9]\n",
    "list2 = [11, 24, 134, 75, 38, 56, 33, 25]\n",
    "list3 = [-43, 82, 99 + 5, 55 / 11, 43]"
   ]
  },
  {
   "cell_type": "code",
   "execution_count": null,
   "metadata": {},
   "outputs": [],
   "source": [
    "# YOUR CODE HERE\n",
    "\n"
   ]
  },
  {
   "cell_type": "code",
   "execution_count": null,
   "metadata": {},
   "outputs": [],
   "source": []
  }
 ],
 "metadata": {
  "kernelspec": {
   "display_name": "Python 3",
   "language": "python",
   "name": "python3"
  },
  "language_info": {
   "codemirror_mode": {
    "name": "ipython",
    "version": 3
   },
   "file_extension": ".py",
   "mimetype": "text/x-python",
   "name": "python",
   "nbconvert_exporter": "python",
   "pygments_lexer": "ipython3",
   "version": "3.7.4"
  }
 },
 "nbformat": 4,
 "nbformat_minor": 2
}
