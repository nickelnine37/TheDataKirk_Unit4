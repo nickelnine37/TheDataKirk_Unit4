{
 "cells": [
  {
   "cell_type": "markdown",
   "metadata": {},
   "source": [
    "# 2 - Regression in Python\n",
    "\n",
    "---\n",
    "\n",
    "## A reminder of the key maths\n",
    "\n",
    "### The data\n",
    "\n",
    "We have gone out into the world and taken some measurements. These measurements form $(x, y)$ pairs. Last week we looked at an example where $x$ was the number of salespeople hired in a particular month and $y$ was the total number of cars sold in that same month. But these could of course represent any variables we like. \n",
    "\n",
    "$$\n",
    "x\\text{-data} = [x_1, x_2, x_3, ..., x_N] \\\\[0.4cm]\n",
    "y\\text{-data} = [y_1, y_2, y_3, ..., y_N]\n",
    "$$\n",
    "\n",
    "### The linear relationship\n",
    "\n",
    "We decide that the $x$ and $y$ are likely to have some kind of linear relationship. We can describe this linear relationship by the eauation of a line. In general, we suggest that \n",
    "\n",
    "$$\n",
    "y_i \\approx mx_i + c\n",
    "$$\n",
    "\n",
    "where $y_i$ is the $i$th $y$-measurement and $x_i$  is the $i$th $x$-measurement. $m$ and $c$ are the gradient and intercept values. We want to find the values for $m$ and $c$ that best fit the data. \n",
    "\n",
    "### How good are our value of $m$ and $c$?\n",
    "\n",
    "For a given value of $m$ and $c$ our 'prediction' for what $y_i$ should be is \n",
    "\n",
    "$$\n",
    "mx_i + c\n",
    "$$\n",
    "\n",
    "however, the true measured value is $y_i$. The difference between our prediction and the real value is \n",
    "\n",
    "$$\n",
    "\\begin{align}\n",
    "\\text{error} &= \\text{real value} \\; - \\text{prediction} \\\\\n",
    "&= y_i - (mx_i+c) \\\\\n",
    "&= y_i - mx_i - c\n",
    "\\end{align}\n",
    "$$\n",
    "\n",
    "This could be positive or negative, depending on whether the real value or our prediction is bigger. We therefore square this, because we really care about the size of this difference, not the sign. \n",
    "\n",
    "$$\n",
    "(\\text{real value} \\; - \\text{prediction})^2 = (y_i - mx_i - c)^2 \n",
    "$$\n",
    "\n",
    "We then look at this squared error for every data point we have collected and add it up\n",
    "\n",
    "$$\n",
    "\\begin{align}\n",
    "\\text{total error} = (y_1 - mx_1 - c)^2  \\, + \\, (y_2 - mx_2 - c)^2 \\, + \\, ...  \\\\\n",
    "\\end{align}\n",
    "$$\n",
    "\n",
    "To keep things neat, mathematicians will often write this using summation notation\n",
    "\n",
    "$$\n",
    "\\text{total error} = \\sum_{i=1}^{N} (y_i - mx_i - c)^2 \n",
    "$$\n",
    "\n",
    "### Finding the best $m$ and $c$\n",
    "\n",
    "For every value of $m$ and $c$ there is an associated error, which we can calculate using the equation above. We can find the best value of $m$ and $c$ by adjusting them and finding the values that minimise our total error. In practice, the way we do this is by finding the place where the derivitive of the error with respect to $m$ and $c$ is zero. \n",
    "\n",
    "## Exercise 1 \n",
    "\n",
    "Play with the paramters $m$ and $c$ in the graph below to remind yourself of the role they play. "
   ]
  },
  {
   "cell_type": "code",
   "execution_count": null,
   "metadata": {},
   "outputs": [],
   "source": [
    "import numpy as np\n",
    "import matplotlib.pyplot as plt\n",
    "import warnings\n",
    "warnings.filterwarnings('ignore')"
   ]
  },
  {
   "cell_type": "code",
   "execution_count": null,
   "metadata": {},
   "outputs": [],
   "source": [
    "np.set_printoptions(precision=3, linewidth=500, threshold=500, suppress=True)\n",
    "%matplotlib notebook"
   ]
  },
  {
   "cell_type": "code",
   "execution_count": null,
   "metadata": {},
   "outputs": [],
   "source": [
    "%matplotlib notebook"
   ]
  },
  {
   "cell_type": "code",
   "execution_count": null,
   "metadata": {},
   "outputs": [],
   "source": [
    "from scripts.regression2 import *"
   ]
  },
  {
   "cell_type": "code",
   "execution_count": null,
   "metadata": {},
   "outputs": [],
   "source": [
    "make_graph_1()"
   ]
  },
  {
   "cell_type": "markdown",
   "metadata": {},
   "source": [
    "## In this notebook we will learn how to use Python to find the best values for $m$ and $c$ without having to explicitly code any maths\n",
    "\n",
    "---\n",
    "\n",
    "## Let's create some toy data\n",
    "\n",
    "For the purpose of this notebook we will create our own data with a 'known' true value for the gradient and intercept, which we will set. We will then try to recover those true values using regression.\n",
    "\n",
    "The function `np.linspace(a, b, N)` creates a numpy array of `N` evenly spaced numbers between `a` and `b`. \n",
    "\n",
    "### Exercise 2\n",
    "\n",
    "Play with different parameters for `a`, `b` and `N`. What do you notice?"
   ]
  },
  {
   "cell_type": "code",
   "execution_count": null,
   "metadata": {},
   "outputs": [],
   "source": [
    "a = 0\n",
    "b = 10\n",
    "N = 11\n",
    "np.linspace(a, b, N)"
   ]
  },
  {
   "cell_type": "markdown",
   "metadata": {},
   "source": [
    "For our example we will use `a=0, b=10` and `N=11`"
   ]
  },
  {
   "cell_type": "code",
   "execution_count": null,
   "metadata": {},
   "outputs": [],
   "source": [
    "a = 0                       # numbers will start from here\n",
    "b = 10                      # numbers will end here\n",
    "N = 11                      # we will create 11 data points\n",
    "x = np.linspace(0, 10, N)   # create an array of 11 evenly spaced numbers between 0 and 10\n",
    "x"
   ]
  },
  {
   "cell_type": "markdown",
   "metadata": {},
   "source": [
    "Next we will set some 'true' values for the gradient and intercept"
   ]
  },
  {
   "cell_type": "code",
   "execution_count": null,
   "metadata": {},
   "outputs": [],
   "source": [
    "# these will be the 'true' values of the gradient and intercept\n",
    "c = 8   # the intercept\n",
    "m = 2   # the grdaient"
   ]
  },
  {
   "cell_type": "markdown",
   "metadata": {},
   "source": [
    "When we multiply a numpy array by a number we get a new array where each element is multiplied by that number. Similarly, when we add a constant to a numpy array every element gets that constant added to it. "
   ]
  },
  {
   "cell_type": "code",
   "execution_count": null,
   "metadata": {},
   "outputs": [],
   "source": [
    "# each value of y will be m times x plus c\n",
    "y = m * x + c "
   ]
  },
  {
   "cell_type": "code",
   "execution_count": null,
   "metadata": {},
   "outputs": [],
   "source": [
    "print('x = ', x)\n",
    "print('y = ', y)"
   ]
  },
  {
   "cell_type": "code",
   "execution_count": null,
   "metadata": {},
   "outputs": [],
   "source": [
    "# let's plot this data to see what we've made so far\n",
    "plt.figure()       # create a new figure\n",
    "plt.scatter(x, y)  # scatter the data points x and y\n",
    "plt.xlabel('x')    # add an x-label\n",
    "plt.ylabel('y')    # add a y-label"
   ]
  },
  {
   "cell_type": "markdown",
   "metadata": {},
   "source": [
    "## Adding noise\n",
    "\n",
    "At this stage in the process we have a perfect straight line. In reality, we rarely measure two variables that have a perfect linear relationship. The world is messy, and we almost always have what's called 'noise' in our data. This could be from measurement error, or random fluctuation or both. \n",
    "\n",
    "In python we can simulate random noise by using the module `np.random`. This allows us to generate random numbers. Today we will focus on a particular type of random number - those coming from the *normal distribution*\n",
    "\n",
    "### The normal distribution\n",
    "\n",
    "The normal distribution is an example of a *probability distribution*. We use probability distributions to describe the likely values that a continuous random variable can take. \n",
    "\n",
    "An example of something that could be normally distributed is the height of people in a population. Some people will be very tall, some people will be very short, most people will be somewhere in the middle. \n",
    "\n",
    "The normal distribution is parametrised by two numbers: the distribution mean $\\mu$ and the distribution width $\\sigma$. Take a look at the graphs below. \n"
   ]
  },
  {
   "cell_type": "code",
   "execution_count": null,
   "metadata": {},
   "outputs": [],
   "source": [
    "make_graph_2()"
   ]
  },
  {
   "cell_type": "markdown",
   "metadata": {},
   "source": [
    "In Python we can create a random number drawn from a normal distribution by typing"
   ]
  },
  {
   "cell_type": "code",
   "execution_count": null,
   "metadata": {},
   "outputs": [],
   "source": [
    "mu = 0              # set the distribution mean\n",
    "sigma = 1           # set the distribution width\n",
    "np.random.normal(mu, sigma)"
   ]
  },
  {
   "cell_type": "markdown",
   "metadata": {},
   "source": [
    "We can also use this function to create an *array* of random numbers b. In this case, each number in the array will be drawn from the same distribution"
   ]
  },
  {
   "cell_type": "code",
   "execution_count": null,
   "metadata": {},
   "outputs": [],
   "source": [
    "mu = 0              # set the distribution mean\n",
    "sigma = 1           # set the distribution width\n",
    "N = 11              # set how many random numbers to generate\n",
    "np.random.normal(mu, sigma, N)"
   ]
  },
  {
   "cell_type": "markdown",
   "metadata": {},
   "source": [
    "The way that we will add 'noise' to our observed data, `y`, is by adding a random array **of the same length**. "
   ]
  },
  {
   "cell_type": "code",
   "execution_count": null,
   "metadata": {},
   "outputs": [],
   "source": [
    "np.set_printoptions(floatmode='fixed')"
   ]
  },
  {
   "cell_type": "code",
   "execution_count": null,
   "metadata": {},
   "outputs": [],
   "source": [
    "noise = np.random.normal(0, 2, 11)\n",
    "y_obs = y + noise\n",
    "print('y =         ', y)\n",
    "print('noise =     ', noise)\n",
    "print('y + noise = ', y_obs)"
   ]
  },
  {
   "cell_type": "markdown",
   "metadata": {},
   "source": [
    "When we now plot `x` against `y` with the added noise, we get something that looks more like real data one might observe"
   ]
  },
  {
   "cell_type": "code",
   "execution_count": null,
   "metadata": {},
   "outputs": [],
   "source": [
    "plt.figure()\n",
    "plt.scatter(x, y_obs)\n",
    "plt.xlabel('x')\n",
    "plt.ylabel('y')\n",
    "plt.title('Noisy observations')"
   ]
  },
  {
   "cell_type": "markdown",
   "metadata": {},
   "source": [
    "### Exercise 3\n",
    "\n",
    "Go back to the code above that produced the plot. Try adjusting the sigma parameter to make it larger or smaller. At what value do you think it becomes impossible to identify the linear trend?\n",
    "\n",
    "---\n",
    "\n",
    "## Solving the regression problem\n",
    "\n",
    "We now have the data we need to solve the regression problem. \n",
    "\n",
    "$$\n",
    "x\\text{-data} = [x_1, x_2, x_3, ..., x_N] \\\\[0.4cm]\n",
    "y\\text{-data} = [y_1, y_2, y_3, ..., y_N]\n",
    "$$\n",
    "\n",
    "Recall that we preset the parameters as $m=2, c=8$. If our model is good, we should be able to recover those numbers. In order to do this, we are going to have to use some more numpy functions. \n",
    "\n",
    "### np.zeros\n",
    "\n",
    "The numpy function `np.zeros` is used to create an 'empty' numpy array. It takes one parameter which can be either a number, or a pair of numbers. This specifies the length/shape of the array. First let's see what happens when we pass a single number. "
   ]
  },
  {
   "cell_type": "code",
   "execution_count": null,
   "metadata": {},
   "outputs": [],
   "source": [
    "np.set_printoptions(floatmode='unique')"
   ]
  },
  {
   "cell_type": "code",
   "execution_count": null,
   "metadata": {},
   "outputs": [],
   "source": [
    "# this will create a 1D array of zeros, of length 10\n",
    "np.zeros(10)"
   ]
  },
  {
   "cell_type": "code",
   "execution_count": null,
   "metadata": {},
   "outputs": [],
   "source": [
    "# this will create a 1D array of zeros, of length 15\n",
    "np.zeros(15)"
   ]
  },
  {
   "cell_type": "code",
   "execution_count": null,
   "metadata": {},
   "outputs": [],
   "source": [
    "# CREATE AN ARRAY OF ZEROS OF LENGTH 20\n"
   ]
  },
  {
   "cell_type": "markdown",
   "metadata": {},
   "source": [
    "We can also create 2D arrays. This is done by passing in a pair of numbers in brackets. NOTE this is not the same as passing in two numbers!!\n",
    "\n",
    "```python\n",
    "np.zeros(5, 3) # WRONG!\n",
    "np.zeros((5, 3)) # RIGHT!\n",
    "```\n",
    "\n",
    "This will create *rectangle* of numbers (also known as a matrix!). The first numbers tells you the height, and the second number tells you the width\n",
    "\n",
    "```python\n",
    "height = 5\n",
    "width = 3\n",
    "np.zeros((height, width))\n",
    "```"
   ]
  },
  {
   "cell_type": "code",
   "execution_count": null,
   "metadata": {},
   "outputs": [],
   "source": [
    "np.zeros((5, 3))"
   ]
  },
  {
   "cell_type": "code",
   "execution_count": null,
   "metadata": {},
   "outputs": [],
   "source": [
    "np.zeros((3, 5))"
   ]
  },
  {
   "cell_type": "code",
   "execution_count": null,
   "metadata": {},
   "outputs": [],
   "source": [
    "# CREATE AN ARRAY OF ZEROS WITH A WIDTH OF 4 AND A HEIGHT OF 8!\n"
   ]
  },
  {
   "cell_type": "markdown",
   "metadata": {},
   "source": [
    "### Exercise 4: Indexing a 2D array\n",
    "\n",
    "We can index a 2D array in a similar way to a 1D array, with square brackets. Here, however, we need to provide two indices. Each individual element can be accessed like so\n",
    "\n",
    "![](images/np-array.png)"
   ]
  },
  {
   "cell_type": "code",
   "execution_count": null,
   "metadata": {},
   "outputs": [],
   "source": [
    "A = np.zeros((6, 4))\n",
    "A"
   ]
  },
  {
   "cell_type": "markdown",
   "metadata": {},
   "source": [
    "We can set values like so"
   ]
  },
  {
   "cell_type": "code",
   "execution_count": null,
   "metadata": {},
   "outputs": [],
   "source": [
    "A[0, 0] = 1\n",
    "A"
   ]
  },
  {
   "cell_type": "markdown",
   "metadata": {},
   "source": [
    "Remember, the first number refers to the height dimension, and the second number refers to the width dimension. "
   ]
  },
  {
   "cell_type": "code",
   "execution_count": null,
   "metadata": {},
   "outputs": [],
   "source": [
    "A[2, 0] = 2\n",
    "A"
   ]
  },
  {
   "cell_type": "code",
   "execution_count": null,
   "metadata": {},
   "outputs": [],
   "source": [
    "A[2, 3] = 3\n",
    "A"
   ]
  },
  {
   "cell_type": "code",
   "execution_count": null,
   "metadata": {},
   "outputs": [],
   "source": [
    "# MAKE THE VALUE IN THE BOTTOM RIGHT OF THE 2D ARRAY 4\n"
   ]
  },
  {
   "cell_type": "markdown",
   "metadata": {},
   "source": [
    "We can set a whole row equal to some number, or a whole column equal to some number"
   ]
  },
  {
   "cell_type": "code",
   "execution_count": null,
   "metadata": {},
   "outputs": [],
   "source": [
    "B = np.zeros((5, 5))\n",
    "B"
   ]
  },
  {
   "cell_type": "code",
   "execution_count": null,
   "metadata": {},
   "outputs": [],
   "source": [
    "# set the 1th column equal to 1\n",
    "B[:, 1] = 1\n",
    "B"
   ]
  },
  {
   "cell_type": "code",
   "execution_count": null,
   "metadata": {},
   "outputs": [],
   "source": [
    "# set the 1th row equal to 1\n",
    "B[1, :] = 1\n",
    "B"
   ]
  },
  {
   "cell_type": "markdown",
   "metadata": {},
   "source": [
    "We can also set a row or column equal to some array, as long as the sizes match!"
   ]
  },
  {
   "cell_type": "code",
   "execution_count": null,
   "metadata": {},
   "outputs": [],
   "source": [
    "b = np.array([162, 3, 2, 1, 4])\n",
    "B[:, 3] = b\n",
    "B"
   ]
  },
  {
   "cell_type": "code",
   "execution_count": null,
   "metadata": {},
   "outputs": [],
   "source": [
    "# CREATE A NEW ARRAY OF SHAPE (8, 4) AND SET THE THIRD COLUMN EQUAL TO [8,7,6,5,4,3,2,1]\n"
   ]
  },
  {
   "cell_type": "markdown",
   "metadata": {},
   "source": [
    "## Back to linear regression\n",
    "\n",
    "In order to solve the linear regression problem, we need to create a matrix that has shape `(N, 2)` where `N` is the number of data points we have collected. Lets make that matrix now using `np.zeros`. (Remember, we started this notebook with N=11 data points). Ultimately we want a matrix that looks like this\n",
    "\n",
    "$$\n",
    "X =  \\begin{bmatrix}\n",
    "1 & x_1 \\\\\n",
    "1 & x_2 \\\\\n",
    "1 & x_3 \\\\\n",
    "\\vdots & \\vdots \\\\\n",
    "1 & x_N \\\\\n",
    "\\end{bmatrix}\n",
    "$$"
   ]
  },
  {
   "cell_type": "code",
   "execution_count": null,
   "metadata": {},
   "outputs": [],
   "source": [
    "# CREATE AN EMPTY MATRIX CALLED X THAT HAS A HEIGHT OF N=11 AND WIDTH 2\n",
    "X = np.zeros((11, 2))\n",
    "X"
   ]
  },
  {
   "cell_type": "markdown",
   "metadata": {},
   "source": [
    "Next we are going to make every element in the first column of this matrix equal to 1"
   ]
  },
  {
   "cell_type": "code",
   "execution_count": null,
   "metadata": {},
   "outputs": [],
   "source": [
    "# MAKE THE FIRST COLUMN ON X EQUAL TO 1. LOOK AT THE ABOVE EXAMPLES IF UNSURE\n",
    "X[:, 0] = 1\n",
    "X"
   ]
  },
  {
   "cell_type": "markdown",
   "metadata": {},
   "source": [
    "Finally we are going to make the second column of X equal to our array of x observations. Check back up where we defined our x-observations. "
   ]
  },
  {
   "cell_type": "code",
   "execution_count": null,
   "metadata": {},
   "outputs": [],
   "source": [
    "# MAKE THE SECOND COLUMN OF X EQUAL TO OUR ARRAY OF X OBSERVATIONS\n",
    "X[:, 1] = x\n",
    "X"
   ]
  },
  {
   "cell_type": "markdown",
   "metadata": {},
   "source": [
    "Finally, this matrix X can be used along with our observed y values to find the best values for the gradient and the intercept. The way we do that is via the function `np.linalg.lstsq`. "
   ]
  },
  {
   "cell_type": "code",
   "execution_count": null,
   "metadata": {},
   "outputs": [],
   "source": [
    "best_c, best_m = np.linalg.lstsq(X, y_obs)[0]\n",
    "print('The best gradient value is ', best_m)\n",
    "print('The best intercept value is ', best_c)"
   ]
  },
  {
   "cell_type": "markdown",
   "metadata": {},
   "source": [
    " ## Why does this work? What is lstsq doing?\n",
    " \n",
    " The function `np.linalg.lstsq` takes a data matrix X of shape `(N, 2)` and an observation vector y of length `N` and asks the following:\n",
    "\n",
    "'For each of my N rows in the data matrix I'm going to multiply each number in that row by a constant, add them up, and compare that with the corresponding entry in the y vector. I'm going to find the square difference between these two for every row. What numbers should I multiply by to get the least square error in total?' \n",
    "\n",
    "This is why it's called `lstsq` - it's short for *least-square*. This also explains why we have to set the first column to 1. This column corresponds to our intercept. \n",
    "\n",
    "$$\n",
    "\\begin{bmatrix}\n",
    "1 & x_1 \\\\\n",
    "1 & x_2 \\\\\n",
    "1 & x_3 \\\\\n",
    "\\vdots & \\vdots \\\\\n",
    "1 & x_N \\end{bmatrix} \\times \\begin{bmatrix} c \\\\ m \\end{bmatrix} = \\begin{bmatrix}\n",
    "c + mx_1 \\\\\n",
    "c + mx_2 \\\\\n",
    "c + mx_3 \\\\\n",
    "\\vdots  \\\\\n",
    "c + mx_N \\end{bmatrix}\n",
    "$$\n",
    "\n",
    "## Exercise 5: Doing the whole process\n",
    "\n",
    "Let's begin from the start and see if we can recover some new parameters. "
   ]
  },
  {
   "cell_type": "code",
   "execution_count": null,
   "metadata": {},
   "outputs": [],
   "source": [
    "# THE TRUE VALUES\n",
    "m = 5\n",
    "c = 10\n",
    "\n",
    "# CREATE THE OBSERVED DATA ARRAYS\n",
    "N = 101\n",
    "x = np.linspace(-5, 5, N)\n",
    "y = m * x + c + np.random.normal(0, 3, N)\n",
    "\n",
    "# NOW, CREATE THE DATA MATRIX X\n",
    "X = \n",
    "\n",
    "\n",
    "# NOW USE np.linalg.lstsq TO FIND THE OPTIMAL VALUES FOR m AND c\n",
    "\n",
    "\n",
    "\n",
    "# FINALLY, SCATTER THE OBSERVED DATA AND PLOT YOUR BEST FIT\n",
    "# REMEMBER TO USE plt.scatter AND plt.plot CORRECTLY\n",
    "# REFER TO THE PLOTTING CODE ABOVE IF UNSURE\n",
    "\n"
   ]
  }
 ],
 "metadata": {
  "kernelspec": {
   "display_name": "Python 3",
   "language": "python",
   "name": "python3"
  },
  "language_info": {
   "codemirror_mode": {
    "name": "ipython",
    "version": 3
   },
   "file_extension": ".py",
   "mimetype": "text/x-python",
   "name": "python",
   "nbconvert_exporter": "python",
   "pygments_lexer": "ipython3",
   "version": "3.7.3"
  }
 },
 "nbformat": 4,
 "nbformat_minor": 2
}
