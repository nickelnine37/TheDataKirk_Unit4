{
 "cells": [
  {
   "cell_type": "markdown",
   "metadata": {},
   "source": [
    "# Python Numpy Intro\n",
    "\n",
    "This tutorial is an introduction to the Python Numpy numerical python library.\n",
    "\n",
    "Python comes with lots of features built-in to it's native language. However, people will also often use what's called packages. These are external pieces of code, writen by other people, which we can download and use for free (they are sometimes also referred to as libraries). There are literally thousands of packages out there, but typically data scientists will only be using 5 or so regularly. Today we will be looking at NumPy (short for Numerical Python, pronounced num-pie).\n",
    "\n",
    "The core data structure behind Numpy is the n-dimensional Numpy Array. It is 3x to 10x faster and more memory efficient than Python's lists we have looked at before because, similar to Java arrays, it uses contiguous blocks of memory, and all elements are the same data type so there is no type checking at runtime. The Numpy library also includes many built-in code-saving mathematical functions that can be performed on an entire array or any slice of an array with a single line of code (ie. no for loops).\n",
    "\n",
    "Numpy n-dimensional arrays are also sometimes referred to as nd-arrays."
   ]
  },
  {
   "cell_type": "markdown",
   "metadata": {},
   "source": [
    "## Installing NumPy"
   ]
  },
  {
   "attachments": {},
   "cell_type": "markdown",
   "metadata": {},
   "source": [
    "When you download Python for the first time, none of these packages will be installed. Packages have to be installed from the *command line*. You may have seen this briefly already. It looks something like this. \n",
    "\n",
    "![Image of Yaktocat](https://i.ytimg.com/vi/nHmuSlj4Kjo/maxresdefault.jpg)\n",
    "\n",
    "The command line can be reached by typing `cmd` into your windows search bar. Packages can be installed by typing the following into a command line and hitting enter. \n",
    "\n",
    "```\n",
    "pip install package_name\n",
    "```\n",
    "\n",
    "where you replace `package_name` with the actual name of the package you want to download. This should always work if you have python installed.\n",
    "\n",
    "So, our packages can be installed by typing:\n",
    "\n",
    "```\n",
    "pip install numpy\n",
    "``` "
   ]
  },
  {
   "cell_type": "markdown",
   "metadata": {},
   "source": [
    "## The import statement"
   ]
  },
  {
   "cell_type": "markdown",
   "metadata": {},
   "source": [
    "Once we have a package installed and we want to use it in our code, we have to *import* it. This is achieved as follows: \n",
    "\n",
    "```python \n",
    "import package_name    # this is now regular python code!\n",
    "```\n",
    "\n",
    "Lets try that now"
   ]
  },
  {
   "cell_type": "code",
   "execution_count": 11,
   "metadata": {},
   "outputs": [],
   "source": [
    "import numpy as np\n",
    "# The 'as np' statement will rename numpy to np for short.\n",
    "np.set_printoptions(precision=3, linewidth=500, threshold=500, suppress=True)\n",
    "# dont worry about the line above, it just makes some printed stuff look prittier."
   ]
  },
  {
   "cell_type": "markdown",
   "metadata": {},
   "source": [
    "If you have no errors, that means you imported it fine. We can now access NumPy functions by calling `np` followed by a full-stop (`.`) then the name of the function we want to use.\n",
    "\n",
    "If you need more information about a function, just run a code block with the function name followed by a question mark, e.g"
   ]
  },
  {
   "cell_type": "code",
   "execution_count": 12,
   "metadata": {},
   "outputs": [],
   "source": [
    "np.min?"
   ]
  },
  {
   "cell_type": "markdown",
   "metadata": {},
   "source": [
    "## Creating a Numpy Array"
   ]
  },
  {
   "cell_type": "markdown",
   "metadata": {},
   "source": [
    "The key thing we use NumPy for is what's called a NumPy *array*. This is similar to a list, except we can only use numbers. We can make a NumPy array like so"
   ]
  },
  {
   "cell_type": "code",
   "execution_count": 13,
   "metadata": {},
   "outputs": [
    {
     "data": {
      "text/plain": [
       "array([1, 2, 3, 4])"
      ]
     },
     "execution_count": 13,
     "metadata": {},
     "output_type": "execute_result"
    }
   ],
   "source": [
    "a = np.array([1, 2, 3, 4])\n",
    "a"
   ]
  },
  {
   "cell_type": "markdown",
   "metadata": {},
   "source": [
    "NumPy arrays are great when we want to do things to lots of numbers at the same time. For example, if we multiply the array by 2, we get a new array where every item has been multiplied by 2."
   ]
  },
  {
   "cell_type": "code",
   "execution_count": 14,
   "metadata": {},
   "outputs": [
    {
     "data": {
      "text/plain": [
       "array([2, 4, 6, 8])"
      ]
     },
     "execution_count": 14,
     "metadata": {},
     "output_type": "execute_result"
    }
   ],
   "source": [
    "2 * a"
   ]
  },
  {
   "cell_type": "markdown",
   "metadata": {},
   "source": [
    "Or if we add 1, again it will do it to every item in the array."
   ]
  },
  {
   "cell_type": "code",
   "execution_count": 15,
   "metadata": {},
   "outputs": [
    {
     "data": {
      "text/plain": [
       "array([2, 3, 4, 5])"
      ]
     },
     "execution_count": 15,
     "metadata": {},
     "output_type": "execute_result"
    }
   ],
   "source": [
    "a + 1"
   ]
  },
  {
   "cell_type": "markdown",
   "metadata": {},
   "source": [
    "We can even square an array:"
   ]
  },
  {
   "cell_type": "code",
   "execution_count": 16,
   "metadata": {},
   "outputs": [
    {
     "data": {
      "text/plain": [
       "array([ 1,  4,  9, 16])"
      ]
     },
     "execution_count": 16,
     "metadata": {},
     "output_type": "execute_result"
    }
   ],
   "source": [
    "a ** 2    # Remember, ** means to the power of!"
   ]
  },
  {
   "cell_type": "markdown",
   "metadata": {},
   "source": [
    "This is much more cenvenient than lists, where we would have to write a loop to achieve the same thing."
   ]
  },
  {
   "cell_type": "code",
   "execution_count": 17,
   "metadata": {},
   "outputs": [
    {
     "data": {
      "text/plain": [
       "[1, 4, 9, 16]"
      ]
     },
     "execution_count": 17,
     "metadata": {},
     "output_type": "execute_result"
    }
   ],
   "source": [
    "a_list = [1, 2, 3, 4]\n",
    "a_list_squared = []\n",
    "for i in range(4):\n",
    "    a_list_squared.append(a_list[i] ** 2)\n",
    "a_list_squared"
   ]
  },
  {
   "cell_type": "markdown",
   "metadata": {},
   "source": [
    "trying to square a list will give an error!!"
   ]
  },
  {
   "cell_type": "code",
   "execution_count": 18,
   "metadata": {},
   "outputs": [
    {
     "ename": "TypeError",
     "evalue": "unsupported operand type(s) for ** or pow(): 'list' and 'int'",
     "output_type": "error",
     "traceback": [
      "\u001b[1;31m---------------------------------------------------------------------------\u001b[0m",
      "\u001b[1;31mTypeError\u001b[0m                                 Traceback (most recent call last)",
      "\u001b[1;32m<ipython-input-18-288b1df3789d>\u001b[0m in \u001b[0;36m<module>\u001b[1;34m()\u001b[0m\n\u001b[1;32m----> 1\u001b[1;33m \u001b[0ma_list\u001b[0m \u001b[1;33m**\u001b[0m \u001b[1;36m2\u001b[0m\u001b[1;33m\u001b[0m\u001b[0m\n\u001b[0m",
      "\u001b[1;31mTypeError\u001b[0m: unsupported operand type(s) for ** or pow(): 'list' and 'int'"
     ]
    }
   ],
   "source": [
    "a_list ** 2"
   ]
  },
  {
   "cell_type": "markdown",
   "metadata": {},
   "source": [
    "We can also add or multiply two arrays together, as long as they are the same length. Again, this will be done to each item in turn:"
   ]
  },
  {
   "cell_type": "code",
   "execution_count": 19,
   "metadata": {},
   "outputs": [],
   "source": [
    "b = np.array([3, 4, 5, 6])\n",
    "c = np.array([7, 6, 5, 4])"
   ]
  },
  {
   "cell_type": "code",
   "execution_count": null,
   "metadata": {},
   "outputs": [],
   "source": [
    "b + c    # add two arrays"
   ]
  },
  {
   "cell_type": "code",
   "execution_count": null,
   "metadata": {},
   "outputs": [],
   "source": [
    "b * c    # multiply two arrays together"
   ]
  },
  {
   "cell_type": "code",
   "execution_count": null,
   "metadata": {},
   "outputs": [],
   "source": [
    "b - c    # subtract one array from another"
   ]
  },
  {
   "cell_type": "markdown",
   "metadata": {},
   "source": [
    "Note that we cant do any of these things with lists:"
   ]
  },
  {
   "cell_type": "code",
   "execution_count": null,
   "metadata": {},
   "outputs": [],
   "source": [
    "a_list = [3, 4, 5, 6]\n",
    "b_list = [7, 6, 5, 4]"
   ]
  },
  {
   "cell_type": "code",
   "execution_count": null,
   "metadata": {},
   "outputs": [],
   "source": [
    "a_list - b_list # Running this code will evoke an error: TypeError: unsupported operand type(s) for -: 'list' and 'list'!\n"
   ]
  },
  {
   "cell_type": "markdown",
   "metadata": {},
   "source": [
    "## Problem 1\n",
    "\n",
    "15 people take a maths test. They get a score out of 20 which has been put into a numpy array. For example, a score of 15/20 should be a percentage of 75. Using one or two lines only, print out these scores as a percentage"
   ]
  },
  {
   "cell_type": "code",
   "execution_count": null,
   "metadata": {},
   "outputs": [],
   "source": [
    "# Write your solution here:\n",
    "\n"
   ]
  },
  {
   "cell_type": "markdown",
   "metadata": {},
   "source": [
    "## Indexing NumPy arrays"
   ]
  },
  {
   "cell_type": "markdown",
   "metadata": {},
   "source": [
    "NumPy arrays can be indexed (i.e. getting elements or sub-arrays) in a very similary way to regular lists."
   ]
  },
  {
   "cell_type": "code",
   "execution_count": null,
   "metadata": {},
   "outputs": [],
   "source": [
    "# index value:       0  1  2  3  4  5  6  7  8  \n",
    "my_array = np.array([5, 4, 2, 5, 3, 2, 2, 5, 1])"
   ]
  },
  {
   "cell_type": "code",
   "execution_count": null,
   "metadata": {},
   "outputs": [],
   "source": [
    "# get the item at index 0\n",
    "my_array[0]"
   ]
  },
  {
   "cell_type": "code",
   "execution_count": null,
   "metadata": {},
   "outputs": [],
   "source": [
    "# get the item at index 5\n",
    "my_array[5]"
   ]
  },
  {
   "cell_type": "code",
   "execution_count": null,
   "metadata": {},
   "outputs": [],
   "source": [
    "# get items from 3 (inclusive) to 7 (non-inclusive)\n",
    "my_array[3:7]"
   ]
  },
  {
   "cell_type": "code",
   "execution_count": null,
   "metadata": {},
   "outputs": [],
   "source": [
    "# get items from the beginning to item 5 (non-inclusive)\n",
    "my_array[:5]"
   ]
  },
  {
   "cell_type": "code",
   "execution_count": null,
   "metadata": {},
   "outputs": [],
   "source": [
    "# get items from item 5 (inclusive) to the end\n",
    "my_array[5:]"
   ]
  },
  {
   "cell_type": "markdown",
   "metadata": {},
   "source": [
    "## Example\n",
    "\n",
    "We can use a loop to move through a numpy array in a similar way to lists, if we want. Here we'll create an array of the first 20 fibonnacci numbers:"
   ]
  },
  {
   "cell_type": "code",
   "execution_count": null,
   "metadata": {},
   "outputs": [],
   "source": [
    "fib = np.zeros(20)   # this creates an 'empty' numpy array of 25 zeros\n",
    "print('the initial array: ', fib)\n",
    "\n",
    "fib[1] = 1   # set element 1 to 1\n",
    "\n",
    "# this is a 'for' loop. Ask the instructor if you're unsure about this\n",
    "for i in range(2, 20):\n",
    "    fib[i] = fib[i-1] + fib[i-2]\n",
    "    \n",
    "print('\\nthe final array: ', fib)"
   ]
  },
  {
   "cell_type": "markdown",
   "metadata": {},
   "source": [
    "## NumPy Functions\n",
    "\n",
    "NumPy has lots of useful functions which we use too. They are all designed to either make or operate on NumPy arrays. These are functions and work in the exact same way as the ones you've already seen. That means they are called on arguments using brackets to return something.\n",
    "\n",
    "    function(argument)"
   ]
  },
  {
   "cell_type": "markdown",
   "metadata": {},
   "source": [
    "### Mean\n",
    "\n",
    "We can find the mean (average) of a NumPy array by using the function np.mean(array)"
   ]
  },
  {
   "cell_type": "code",
   "execution_count": null,
   "metadata": {},
   "outputs": [],
   "source": [
    "my_array = np.array([1, 2, 3, 4, 5, 6, 7])"
   ]
  },
  {
   "cell_type": "code",
   "execution_count": null,
   "metadata": {},
   "outputs": [],
   "source": [
    "np.mean(my_array)"
   ]
  },
  {
   "cell_type": "markdown",
   "metadata": {},
   "source": [
    "### Max/Min\n",
    "\n",
    "We can find the minimum or maximum of a NumPy array by using the function np.min(array) or np.max(array)"
   ]
  },
  {
   "cell_type": "code",
   "execution_count": null,
   "metadata": {},
   "outputs": [],
   "source": [
    "np.min(my_array)"
   ]
  },
  {
   "cell_type": "code",
   "execution_count": null,
   "metadata": {},
   "outputs": [],
   "source": [
    "np.max(my_array)"
   ]
  },
  {
   "cell_type": "markdown",
   "metadata": {},
   "source": [
    "### Sum \n",
    "\n",
    "We can find the sum of an array by using the function `np.sum(array)`."
   ]
  },
  {
   "cell_type": "code",
   "execution_count": null,
   "metadata": {},
   "outputs": [],
   "source": [
    "np.sum(my_array)"
   ]
  },
  {
   "cell_type": "markdown",
   "metadata": {},
   "source": [
    "## Problem 2\n",
    "\n",
    "For the following arrays, calculate the *range* (the difference between the maximum and minimum value)."
   ]
  },
  {
   "cell_type": "code",
   "execution_count": 9,
   "metadata": {},
   "outputs": [],
   "source": [
    "a1 = np.array([13, 34, 21, 27, 16, 46, 14,  9,  6, 38,  8, 27, 37, 29, 48, 33, 27])\n",
    "a2 = np.array([ 8, 12,  6,  4, 37, 34, 31, 33,  2, 12, 21, 27, 28, 46, 19, 28, 32])\n",
    "a3 = np.array([ 5, 46, 22, 38, 28, 24, 44, 13, 45, 13,  3, 27, 23, 19, 40, 45, 22])"
   ]
  },
  {
   "cell_type": "code",
   "execution_count": 10,
   "metadata": {},
   "outputs": [
    {
     "data": {
      "text/plain": [
       "42"
      ]
     },
     "execution_count": 10,
     "metadata": {},
     "output_type": "execute_result"
    }
   ],
   "source": [
    "a1.max() - a1.min()"
   ]
  },
  {
   "cell_type": "markdown",
   "metadata": {},
   "source": [
    "## Linspace\n",
    "\n",
    "The function linspace will make an array that has $N$ evenly spaces numbers between $a$ and $b$. We call it as\n",
    "\n",
    "```python\n",
    "numbers = np.linspace(a, b, N)\n",
    "```"
   ]
  },
  {
   "cell_type": "code",
   "execution_count": 20,
   "metadata": {},
   "outputs": [],
   "source": [
    "a = 5    # start here\n",
    "b = 30   # end here\n",
    "N = 33   # take this many steps\n",
    "numbers = np.linspace(a, b, N)"
   ]
  },
  {
   "cell_type": "code",
   "execution_count": 21,
   "metadata": {},
   "outputs": [
    {
     "data": {
      "text/plain": [
       "array([ 5.   ,  5.781,  6.562,  7.344,  8.125,  8.906,  9.688, 10.469, 11.25 , 12.031, 12.812, 13.594, 14.375, 15.156, 15.938, 16.719, 17.5  , 18.281, 19.062, 19.844, 20.625, 21.406, 22.188, 22.969, 23.75 , 24.531, 25.312, 26.094, 26.875, 27.656, 28.438, 29.219, 30.   ])"
      ]
     },
     "execution_count": 21,
     "metadata": {},
     "output_type": "execute_result"
    }
   ],
   "source": [
    "numbers"
   ]
  },
  {
   "cell_type": "markdown",
   "metadata": {},
   "source": []
  }
 ],
 "metadata": {
  "kernelspec": {
   "display_name": "Python 2",
   "language": "python",
   "name": "python2"
  },
  "language_info": {
   "codemirror_mode": {
    "name": "ipython",
    "version": 2
   },
   "file_extension": ".py",
   "mimetype": "text/x-python",
   "name": "python",
   "nbconvert_exporter": "python",
   "pygments_lexer": "ipython2",
   "version": "2.7.16"
  }
 },
 "nbformat": 4,
 "nbformat_minor": 2
}
